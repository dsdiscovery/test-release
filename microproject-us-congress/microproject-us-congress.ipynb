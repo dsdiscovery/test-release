{
 "cells": [
  {
   "attachments": {},
   "cell_type": "markdown",
   "execution_count": 0,
   "metadata": {},
   "outputs": [],
   "source": [
    "<h1 style=\"text-align: center\">\n",
    "<div style=\"color: #DD3403; font-size: 60%\">Data Science DISCOVERY MicroProject #1</div>\n",
    "<span style=\"\">MicroProject: United States Congress</span>\n",
    "<div style=\"font-size: 60%;\">https://discovery.cs.illinois.edu/microproject/us-congress/</div>\n",
    "</h1>\n",
    "\n",
    "<hr style=\"color: #DD3403;\">\n",
    "\n",
    "## Introduction\n",
    "\n",
    "In this microproject, you will use Exploratory Data Analysis (EDA) techniques and the `groupby` function to find various statistics about the current legislators in the United States Congress.  Let's nerd out!"
   ]
  },
  {
   "attachments": {},
   "cell_type": "markdown",
   "execution_count": 0,
   "metadata": {},
   "outputs": [],
   "source": [
    "## Dataset: \"congress-legislators\"\n",
    "\n",
    "The [@unitedstates project](https://theunitedstates.io/) maintains various high-quality datasets about the United States government.  Specifically, the `congress-legislators` dataset every member \"of the United States Congress (1789-Present), congressional committees (1973-Present), committee membership (current only), and presidents and vice presidents of the United States in YAML, JSON, and CSV format.\"\n",
    "\n",
    "The URL for the CSV dataset is:\n",
    "```\n",
    "https://theunitedstates.io/congress-legislators/legislators-current.csv\n",
    "```\n",
    "\n",
    "Load the dataset into a DataFrame called `df`:"
   ]
  },
  {
   "cell_type": "code",
   "execution_count": 0,
   "metadata": {},
   "outputs": [],
   "source": [
    "...\n",
    "\n",
    "import ssl\n",
    "\n",
    "ssl._create_default_https_context = ssl._create_unverified_context\n",
    "\n",
    "\n"
   ]
  },
  {
   "attachments": {},
   "cell_type": "markdown",
   "execution_count": 0,
   "metadata": {},
   "outputs": [],
   "source": [
    "## Show All Columns\n",
    "\n",
    "This dataset has **A LOT** of columns!  By default, pandas will not show all of them.  By setting the `display.max_columns` value we can view all the columns:"
   ]
  },
  {
   "cell_type": "code",
   "execution_count": 0,
   "metadata": {},
   "outputs": [],
   "source": [
    "pd.set_option('display.max_columns', None)\n",
    "df"
   ]
  },
  {
   "attachments": {},
   "cell_type": "markdown",
   "execution_count": 0,
   "metadata": {},
   "outputs": [],
   "source": [
    "<hr style=\"color: #DD3403;\">"
   ]
  },
  {
   "attachments": {},
   "cell_type": "markdown",
   "execution_count": 0,
   "metadata": {},
   "outputs": [],
   "source": [
    "## Puzzle 1: Splitting The House of Representatives and The Senate\n",
    "\n",
    "In this dataset, each row is one member of Congress.  The United States Congress is bicameral, being made up of both the House of Representatives and the Senate.  In the dataset:\n",
    "\n",
    "- Representatives in the House of Representatives represent a district, which is encoded in the `district` column.  Their `type` column is also `rep`.\n",
    "- Senators are elected for six years, with one-third of the senators up for election every two years.  The `senate_class` denotes which election class a senator is in.  A seantor's `type` column is `sen`.\n",
    "\n",
    "Create two new DataFrames, `df_house` and `df_senate`, that contain members of the House of Representatives and the Senate:"
   ]
  },
  {
   "cell_type": "code",
   "execution_count": 0,
   "metadata": {},
   "outputs": [],
   "source": [
    "df_house = ...\n",
    "df_house\n",
    "\n"
   ]
  },
  {
   "cell_type": "code",
   "execution_count": 0,
   "metadata": {},
   "outputs": [],
   "source": [
    "df_senate = ...\n",
    "df_senate\n",
    "\n"
   ]
  },
  {
   "attachments": {},
   "cell_type": "markdown",
   "execution_count": 0,
   "metadata": {},
   "outputs": [],
   "source": [
    "<hr style=\"color: #DD3403;\">"
   ]
  },
  {
   "attachments": {},
   "cell_type": "markdown",
   "execution_count": 0,
   "metadata": {},
   "outputs": [],
   "source": [
    "## Puzzle 2: Find the Controlling Party of the House of Representatives\n",
    "\n",
    "In each body of Congress, the \"controlling party\" is the party that has the majority of the members.  Using `groupby`, create a DataFrame `df_house_party` that counts the number of members in each political party in the House of Representatives:"
   ]
  },
  {
   "cell_type": "code",
   "execution_count": 0,
   "metadata": {},
   "outputs": [],
   "source": [
    "df_house_party = ...\n",
    "df_house_party\n",
    "\n"
   ]
  },
  {
   "attachments": {},
   "cell_type": "markdown",
   "execution_count": 0,
   "metadata": {},
   "outputs": [],
   "source": [
    "### Puzzle 2 Analysis: How many Democrats and Republicans in the House?\n",
    "\n",
    "Using the result above, fill out the following cell with the number of Democrats and Republications:"
   ]
  },
  {
   "cell_type": "code",
   "execution_count": 0,
   "metadata": {},
   "outputs": [],
   "source": [
    "democrats_in_house = 0\n",
    "republicans_in_house = 0\n",
    "\n"
   ]
  },
  {
   "attachments": {},
   "cell_type": "markdown",
   "execution_count": 0,
   "metadata": {},
   "outputs": [],
   "source": [
    "<hr style=\"color: #DD3403;\">"
   ]
  },
  {
   "attachments": {},
   "cell_type": "markdown",
   "execution_count": 0,
   "metadata": {},
   "outputs": [],
   "source": [
    "## Puzzle 3: Find the Youngest Member of each Party in the House of Representatives\n",
    "\n",
    "In the House of Representatives, who is the youngest member Democrat and who is the youngest Republican?"
   ]
  },
  {
   "cell_type": "code",
   "execution_count": 0,
   "metadata": {},
   "outputs": [],
   "source": [
    "...\n",
    "\n"
   ]
  },
  {
   "attachments": {},
   "cell_type": "markdown",
   "execution_count": 0,
   "metadata": {},
   "outputs": [],
   "source": [
    "### Puzzle 3 Analysis: How many Democrats and Republicans in the House?\n",
    "\n",
    "Using the result above, provide the **full name** of the youngest Democrat and Republican:"
   ]
  },
  {
   "cell_type": "code",
   "execution_count": 0,
   "metadata": {},
   "outputs": [],
   "source": [
    "youngest_democrat_in_house = \"\"\n",
    "youngest_republican_in_house = \"\"\n",
    "\n"
   ]
  },
  {
   "attachments": {},
   "cell_type": "markdown",
   "execution_count": 0,
   "metadata": {},
   "outputs": [],
   "source": [
    "<hr style=\"color: #DD3403;\">"
   ]
  },
  {
   "cell_type": "code",
   "execution_count": 0,
   "metadata": {},
   "outputs": [],
   "source": [
    "\n",
    "#.iloc[D][df.columns.tolist()[5]]"
   ]
  },
  {
   "attachments": {},
   "cell_type": "markdown",
   "execution_count": 0,
   "metadata": {},
   "outputs": [],
   "source": [
    "## 🔬 Microproject Checkpoint Tests 🔬"
   ]
  },
  {
   "cell_type": "code",
   "execution_count": 0,
   "metadata": {},
   "outputs": [],
   "source": [
    "### TEST CASE for Puzzle 1, 2, and 3\n",
    "## == CHECKPOINT TEST CASES ==\n",
    "# - This read-only cell contains test cases for the microproject.\n",
    "# - If this cell runs without any error in the output, you PASSED all test cases!\n",
    "# - If this cell results in any errors, check you previous cells, make changes, and RE-RUN your code and then this cell.\n",
    "\n",
    "tada = \"\\N{PARTY POPPER}\"\n",
    "R = df[ df.party == \"Republican\" ].head(1).index[0]\n",
    "D = df[ df.party == \"Democrat\" ].head(1).index[0]\n",
    "\n",
    "assert( len(df) > 500 )\n",
    "assert( len(df_senate) <= 100 )\n",
    "assert( len(df_house) == len(df) - len(df_senate) )\n",
    "print(f\"{tada} Puzzle 1: All Tests Passed! {tada}\")\n",
    "\n",
    "assert(len(df_house_party) == 2)\n",
    "assert((df_house_party.index[0] == \"Democrat\" or df_house_party.index[0] == \"Republican\" or \"party\" in df.columns.tolist()))\n",
    "assert(len(df) - len(df_senate) - df_house.value_counts(df.columns.tolist()[12])[df.sort_values(df.columns.tolist()[6]).iloc[R][df.columns.tolist()[12]]] == democrats_in_house)\n",
    "assert(len(df) - len(df_senate) - df_house.value_counts(df.columns.tolist()[12])[df.sort_values(df.columns.tolist()[6]).iloc[D][df.columns.tolist()[12]]] == republicans_in_house)\n",
    "print(f\"{tada} Puzzle 2: All Tests Passed! {tada}\")\n",
    "\n",
    "assert(df[ df.party == \"Democrat\" ].sort_values(df.columns.tolist()[6]).tail(1).values[0][5] == youngest_democrat_in_house)\n",
    "assert(df[ df.party == \"Republican\" ].sort_values(df.columns.tolist()[6]).tail(1).values[0][5] == youngest_republican_in_house)\n",
    "print(f\"{tada} Puzzle 3: All Tests Passed! {tada}\")\n",
    "\n",
    "print(f\"{tada}{tada} All Tests Passed! {tada}{tada}\")"
   ]
  },
  {
   "attachments": {},
   "cell_type": "markdown",
   "execution_count": 0,
   "metadata": {},
   "outputs": [],
   "source": [
    "<hr style=\"color: #DD3403;\">"
   ]
  },
  {
   "attachments": {},
   "cell_type": "markdown",
   "execution_count": 0,
   "metadata": {},
   "outputs": [],
   "source": [
    "## Submission\n",
    "\n",
    "You're almost done!  All you need to do is to commit your lab to GitHub and run the GitHub Actions Grader:\n",
    "\n",
    "1.  ⚠️ **Make certain to save your work.** ⚠️ To do this, go to **File => Save All**\n",
    "\n",
    "2.  After you have saved, exit this notebook and follow the instructions to commit this lab to your git repository!\n"
   ]
  }
 ],
 "metadata": {
  "kernelspec": {
   "display_name": "Python 3",
   "language": "python",
   "name": "python3"
  },
  "language_info": {
   "codemirror_mode": {
    "name": "ipython",
    "version": 3
   },
   "file_extension": ".py",
   "mimetype": "text/x-python",
   "name": "python",
   "nbconvert_exporter": "python",
   "pygments_lexer": "ipython3",
   "version": "3.11.3"
  },
  "vscode": {
   "interpreter": {
    "hash": "369f2c481f4da34e4445cda3fffd2e751bd1c4d706f27375911949ba6bb62e1c"
   }
  }
 },
 "nbformat": 4,
 "nbformat_minor": 2
}
