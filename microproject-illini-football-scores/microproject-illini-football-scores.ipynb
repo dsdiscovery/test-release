{
 "cells": [
  {
   "attachments": {},
   "cell_type": "markdown",
   "metadata": {},
   "source": [
    "## 🔬 Microproject Checkpoint Tests 🔬"
   ]
  },
  {
   "cell_type": "code",
   "execution_count": 18,
   "metadata": {},
   "outputs": [
    {
     "name": "stdout",
     "output_type": "stream",
     "text": [
      "🎉 Puzzle 1: All Tests Passed! 🎉\n",
      "🎉 Puzzle 2: All Tests Passed! 🎉\n",
      "🎉 Puzzle 3: All Tests Passed! 🎉\n",
      "🎉🎉 All Tests Passed! 🎉🎉\n"
     ]
    }
   ],
   "source": [
    "### TEST CASE -- Puzzles 1, 2 & 3\n",
    "## == CHECKPOINT TEST CASES ==\n",
    "# - This read-only cell contains test cases for the microproject.\n",
    "# - If this cell runs without any error in the output, you PASSED all test cases!\n",
    "# - If this cell results in any errors, check you previous cells, make changes, and RE-RUN your code and then this cell.\n",
    "\n",
    "import math\n",
    "tada = \"\\N{PARTY POPPER}\"\n",
    "\n",
    "assert( 'df' in vars() ), \"You appear to not have the correct dataset loaded in `df`.\"\n",
    "assert( len(df) > 1200 ), \"You appear to not have the correct dataset loaded in `df`.\"\n",
    "assert( \"IlliniScore\" in df ), \"You appear to not have the correct dataset loaded in `df`.\"\n",
    "assert( \"OpponentScore\" in df ), \"You appear to not have the correct dataset loaded in `df`.\"\n",
    "\n",
    "assert( 'df_worst' in vars() ), \"Puzzle #1 appears incorrect.\"\n",
    "assert( len(df_worst) == 1 ), \"Puzzle #1 appears incorrect.\"\n",
    "assert( 'df_craziest' in vars() ), \"Puzzle #1 appears incorrect.\"\n",
    "assert( len(df_craziest) == 1 ), \"Puzzle #1 appears incorrect.\"\n",
    "assert( 'df_homecoming_best' in vars() ), \"Puzzle #1 appears incorrect.\"\n",
    "assert( len(df_homecoming_best) == 1 ), \"Puzzle #1 appears incorrect.\"\n",
    "\n",
    "OS = list(df.columns).index(\"OpponentScore\")\n",
    "IS = list(df.columns).index(\"IlliniScore\")\n",
    "__tdf = df.dropna(subset=[\"IlliniScore\"])\n",
    "__tdfh = __tdf[__tdf.Note == \"Homecoming\"]\n",
    "assert( df_worst.iloc[0].OpponentScore == __tdf.loc[(__tdf.iloc[:, OS] - __tdf.iloc[:, IS]).sort_values().index].iloc[-1, OS] ), \"Puzzle #1 appears incorrect.\"\n",
    "assert( df_craziest.iloc[0].OpponentScore == __tdf.loc[(__tdf.iloc[:, OS] + __tdf.iloc[:, IS]).sort_values().index].iloc[-1, OS] ), \"Puzzle #1 appears incorrect.\"\n",
    "assert( df_homecoming_best.iloc[0].IlliniScore == __tdfh.loc[(__tdfh.iloc[:, OS] - __tdfh.iloc[:, IS]).sort_values().index].iloc[0, IS] ), \"Puzzle #1 appears incorrect.\"\n",
    "assert( df_homecoming_best.iloc[0].OpponentScore == __tdfh.loc[(__tdfh.iloc[:, OS] - __tdfh.iloc[:, IS]).sort_values().index].iloc[0, OS] ), \"Puzzle #1 appears incorrect.\"\n",
    "\n",
    "print(f\"{tada} Puzzle 1: All Tests Passed! {tada}\")\n",
    "\n",
    "\n",
    "assert( 'df_recent' in vars() ), \"Puzzle #2 appears incorrect.\"\n",
    "assert( len(df_recent) > 260 ), \"Puzzle #2 appears incorrect.\"\n",
    "assert( 'df_historic' in vars() ), \"Puzzle #2 appears incorrect.\"\n",
    "assert( len(df_historic) == 1008 ), \"Puzzle #2 appears incorrect.\"\n",
    "assert( len(df_historic) + len(df_recent) == len(df) ), \"Puzzle #2 appears incorrect.\"\n",
    "__tdfg = __tdf.assign( C = __tdf.apply(lambda row: row[\"Season\"] < 2000, axis=1) ).groupby(\"C\").describe()\n",
    "assert( math.isclose(recent_avg_score, sum(__tdfg.loc[False].iloc[[17, 25]])) ), \"Puzzle #2 appears incorrect.\"\n",
    "assert( math.isclose(historic_avg_score, sum(__tdfg.loc[True].iloc[[17, 25]])) ), \"Puzzle #2 appears incorrect.\"\n",
    "\n",
    "print(f\"{tada} Puzzle 2: All Tests Passed! {tada}\")\n",
    "\n",
    "assert( 'df_points_per_season' in vars() ), \"Puzzle #3 appears incorrect.\"\n",
    "assert( math.isclose(df_points_per_season[ df_points_per_season.Season == 2018 ][\"TotalScore\"], 785) ), \"Puzzle #3 appears incorrect.\"\n",
    "assert( math.isclose(df_points_per_season[ df_points_per_season.Season == 2014 ][\"TotalScore\"], 779) ), \"Puzzle #3 appears incorrect.\"\n",
    "\n",
    "print(f\"{tada} Puzzle 3: All Tests Passed! {tada}\")\n",
    "\n",
    "print(f\"{tada}{tada} All Tests Passed! {tada}{tada}\")\n"
   ]
  },
  {
   "attachments": {},
   "cell_type": "markdown",
   "metadata": {},
   "source": [
    "<hr style=\"color: #DD3403;\">"
   ]
  },
  {
   "attachments": {},
   "cell_type": "markdown",
   "metadata": {},
   "source": [
    "## Submission\n",
    "\n",
    "You're almost done!  All you need to do is to commit your lab to GitHub and run the GitHub Actions Grader:\n",
    "\n",
    "1.  ⚠️ **Make certain to save your work.** ⚠️ To do this, go to **File => Save All**\n",
    "\n",
    "2.  After you have saved, exit this notebook and follow the instructions to commit and grade this MicroProject!\n"
   ]
  }
 ],
 "metadata": {
  "kernelspec": {
   "display_name": "Python 3",
   "language": "python",
   "name": "python3"
  },
  "language_info": {
   "codemirror_mode": {
    "name": "ipython",
    "version": 3
   },
   "file_extension": ".py",
   "mimetype": "text/x-python",
   "name": "python",
   "nbconvert_exporter": "python",
   "pygments_lexer": "ipython3",
   "version": "3.10.5"
  },
  "orig_nbformat": 4,
  "vscode": {
   "interpreter": {
    "hash": "369f2c481f4da34e4445cda3fffd2e751bd1c4d706f27375911949ba6bb62e1c"
   }
  }
 },
 "nbformat": 4,
 "nbformat_minor": 2
}
