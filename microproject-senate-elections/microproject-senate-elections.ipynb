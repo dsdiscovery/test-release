{
 "cells": [
  {
   "attachments": {},
   "cell_type": "markdown",
   "execution_count": 0,
   "metadata": {},
   "outputs": [],
   "source": [
    "<h1 style=\"text-align: center\">\n",
    "<div style=\"color: #DD3403; font-size: 60%\">Data Science DISCOVERY MicroProject #7</div>\n",
    "<span style=\"\">MicroProject: Exploring Senate Data</span>\n",
    "<div style=\"font-size: 60%;\"><a href=\"https://discovery.cs.illinois.edu/microproject/07-senate-elections/\">https://discovery.cs.illinois.edu/microproject/07-senate-elections/</a></div>\n",
    "</h1>\n",
    "\n",
    "<hr style=\"color: #DD3403;\">"
   ]
  },
  {
   "attachments": {},
   "cell_type": "markdown",
   "execution_count": 0,
   "metadata": {},
   "outputs": [],
   "source": [
    "## Data Source: U.S. Senate 1976–2020 Voting Data, via MIT Election Data and Science Lab (MEDSL)\n",
    "\n",
    "\n",
    "November 8th 2022 is election day for the midterm elections. Midterm elections in the US that are held near the midpoint of a president's four-year term of office to elect officials for the House of Representatives, Senate, and Governors. MIT collects election data for federal, state, and local elections. You can view all their datasets at [https://electionlab.mit.edu/data](https://electionlab.mit.edu/data). We are going to be looking at the Senate datasets for this MicroProject. \n",
    "\n",
    "\n",
    "Use panda's `read_csv` function to read the dataset and create a DataFrame called `df_senate`\n",
    "\n",
    "***If there is an error loading in the senate dataset use `encoding = 'unicode_escape'` as a second paramater in the read_csv function"
   ]
  },
  {
   "cell_type": "code",
   "execution_count": 0,
   "metadata": {},
   "outputs": [],
   "source": [
    " 810)\n",
    "assert(df_democrat[\"candidatevotes\"].sort_values(ascending=False)[2676] 7864624)\n",
    "\n",
    "print(f\"{tada} All Tests Passed! {tada}\")"
   ]
  },
  {
   "attachments": {},
   "cell_type": "markdown",
   "execution_count": 0,
   "metadata": {},
   "outputs": [],
   "source": [
    "### Graph Analysis"
   ]
  },
  {
   "attachments": {},
   "cell_type": "markdown",
   "execution_count": 0,
   "metadata": {},
   "outputs": [],
   "source": [
    "Using the last graph you created you can see that the midterm elections have lower turnout rates in Illinois. Illinois reported the second-lowest primary election turnout in 40 years in August: [Source](https://www.wgem.com/2022/08/02/illinois-reports-second-lowest-primary-election-turnout-40-years/). If you are eligible definitely go vote. If you don't know where the closest voting location is [CLICK HERE](https://ova.elections.il.gov/pollingplacelookup.aspx) to find polling locations near you! \n",
    "\n"
   ]
  },
  {
   "attachments": {},
   "cell_type": "markdown",
   "execution_count": 0,
   "metadata": {},
   "outputs": [],
   "source": [
    "## Submission\n",
    "\n",
    "You're almost done!  All you need to do is to commit your lab to GitHub and run the GitHub Actions Grader:\n",
    "\n",
    "1.  ⚠️ **Make certain to save your work.** ⚠️ To do this, go to **File => Save All**\n",
    "\n",
    "2.  After you have saved, exit this notebook and follow the instructions to commit and grade this MicroProject!"
   ]
  },
  {
   "attachments": {},
   "cell_type": "markdown",
   "execution_count": 0,
   "metadata": {},
   "outputs": [],
   "source": []
  }
 ],
 "metadata": {
  "kernelspec": {
   "display_name": "Python 3.8.5 ('base')",
   "language": "python",
   "name": "python3"
  },
  "language_info": {
   "codemirror_mode": {
    "name": "ipython",
    "version": 3
   },
   "file_extension": ".py",
   "mimetype": "text/x-python",
   "name": "python",
   "nbconvert_exporter": "python",
   "pygments_lexer": "ipython3",
   "version": "3.10.5"
  },
  "vscode": {
   "interpreter": {
    "hash": "6ffa1b5e46dc11ea08963e1cd366633ff2f920f8ee7669d02119012e847c3805"
   }
  }
 },
 "nbformat": 4,
 "nbformat_minor": 2
}
