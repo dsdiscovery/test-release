{
 "cells": [
  {
   "attachments": {},
   "cell_type": "markdown",
   "execution_count": 0,
   "metadata": {},
   "outputs": [],
   "source": [
    "<h1 style=\"text-align: center\">\n",
    "<div style=\"color: #DD3403; font-size: 60%\">Data Science DISCOVERY MicroProject #7</div>\n",
    "<span style=\"\">MicroProject: Exploring Senate Data</span>\n",
    "<div style=\"font-size: 60%;\"><a href=\"https://discovery.cs.illinois.edu/microproject/07-senate-elections/\">https://discovery.cs.illinois.edu/microproject/07-senate-elections/</a></div>\n",
    "</h1>\n",
    "\n",
    "<hr style=\"color: #DD3403;\">"
   ]
  },
  {
   "attachments": {},
   "cell_type": "markdown",
   "execution_count": 0,
   "metadata": {},
   "outputs": [],
   "source": [
    "## Data Source: U.S. Senate 1976–2020 Voting Data, via MIT Election Data and Science Lab (MEDSL)\n",
    "\n",
    "\n",
    "November 8th 2022 is election day for the midterm elections. Midterm elections in the US that are held near the midpoint of a president's four-year term of office to elect officials for the House of Representatives, Senate, and Governors. MIT collects election data for federal, state, and local elections. You can view all their datasets at [https://electionlab.mit.edu/data](https://electionlab.mit.edu/data). We are going to be looking at the Senate datasets for this MicroProject. \n",
    "\n",
    "\n",
    "Use panda's `read_csv` function to read the dataset and create a DataFrame called `df_senate`\n",
    "\n",
    "***If there is an error loading in the senate dataset use `encoding = 'unicode_escape'` as a second paramater in the read_csv function"
   ]
  },
  {
   "cell_type": "code",
   "execution_count": 0,
   "metadata": {},
   "outputs": [],
   "source": [
    "### ASSIGNMENT CODE for Data Import ==\n",
    "import pandas as pd "
   ]
  },
  {
   "cell_type": "code",
   "execution_count": 0,
   "metadata": {},
   "outputs": [],
   "source": [
    "### ASSIGNMENT CODE for Data Import ==\n",
    "df_senate = ...\n",
    "\n"
   ]
  },
  {
   "attachments": {},
   "cell_type": "markdown",
   "execution_count": 0,
   "metadata": {},
   "outputs": [],
   "source": [
    "### 🔬 Checkpoint Tests 🔬"
   ]
  },
  {
   "cell_type": "code",
   "execution_count": 0,
   "metadata": {},
   "outputs": [],
   "source": [
    "### TEST CASE for Data Import ==\n",
    "## == CHECKPOINT TESTS ==\n",
    "# - This read-only cell contains a \"checkpoint\" for this section of the MicroProejct and verifies you are on the right track.\n",
    "# - If this cell results in a celebration message, you PASSED all test cases!\n",
    "# - If this cell results in any errors, check you previous cells, make changes, and RE-RUN your code and then this cell.\n",
    "\n",
    "tada = \"\\N{PARTY POPPER}\"\n",
    "\n",
    "assert(\"df_senate\" in vars())\n",
    "assert(\"party_simplified\" in df_senate)\n",
    "assert(\"ALLAN NORWITZ\" in df_senate[\"candidate\"].unique())\n",
    "assert(df_senate.shape[0] == 3629)\n",
    "print(f\"{tada} All Tests Passed! {tada}\")"
   ]
  },
  {
   "attachments": {},
   "cell_type": "markdown",
   "execution_count": 0,
   "metadata": {},
   "outputs": [],
   "source": [
    "## State-Level Analysis of COVID-19\n",
    "\n",
    "The CSV file from MIT provides the **total votes for every senate canidate from 1976-2020**. The data is broken up by States per election year and per candidate.  For example, let's check out Illinois.  Create a DataFrame with all records from the dataset with data about Illinois in the variable `df_illinois`:"
   ]
  },
  {
   "cell_type": "code",
   "execution_count": 0,
   "metadata": {},
   "outputs": [],
   "source": [
    "### ASSIGNMENT CODE for State-level Analysis ==\n",
    "df_illinois = ...\n",
    "\n"
   ]
  },
  {
   "attachments": {},
   "cell_type": "markdown",
   "execution_count": 0,
   "metadata": {},
   "outputs": [],
   "source": [
    "From the dataframe you just created with all the Illinois data lets group by `party_detailed` and find which one of the third parties recieved the most amount of votes. A third party is a party that is not Democrat or Rebuplican. Save the party in a variable called `most_voted_third_illinois`. In addition save the number of `candidatevotes` for the `COMMUNIST` party in the variable `illinois_communist_votes`."
   ]
  },
  {
   "cell_type": "code",
   "execution_count": 0,
   "metadata": {},
   "outputs": [],
   "source": [
    "### ASSIGNMENT CODE for State-level Analysis ==\n",
    "most_voted_third_illinois = ...\n",
    "illinois_communist_votes = ...\n",
    "\n"
   ]
  },
  {
   "attachments": {},
   "cell_type": "markdown",
   "execution_count": 0,
   "metadata": {},
   "outputs": [],
   "source": [
    "### 🔬 Checkpoint Tests 🔬"
   ]
  },
  {
   "cell_type": "code",
   "execution_count": 0,
   "metadata": {},
   "outputs": [],
   "source": [
    "### TEST CASE for State-level Analysis ==\n",
    "## == CHECKPOINT TESTS ==\n",
    "# - This read-only cell contains a \"checkpoint\" for this section of the MicroProejct and verifies you are on the right track.\n",
    "# - If this cell results in a celebration message, you PASSED all test cases!\n",
    "# - If this cell results in any errors, check you previous cells, make changes, and RE-RUN your code and then this cell.\n",
    "\n",
    "tada = \"\\N{PARTY POPPER}\"\n",
    "\n",
    "assert(\"df_illinois\" in vars())\n",
    "assert(len(df_illinois[df_illinois[\"state_fips\"] != 17]) == 0)\n",
    "assert(df_illinois.shape[0] == 99)\n",
    "assert(most_voted_third_illinois.lower() == df_senate[\"party_detailed\"][3].lower())\n",
    "assert(illinois_communist_votes == int(\"0b11111101111111\", 2))\n",
    "print(f\"{tada} All Tests Passed! {tada}\")"
   ]
  },
  {
   "attachments": {},
   "cell_type": "markdown",
   "execution_count": 0,
   "metadata": {},
   "outputs": [],
   "source": [
    "## Doing Data Visualization using Plotly"
   ]
  },
  {
   "attachments": {},
   "cell_type": "markdown",
   "execution_count": 0,
   "metadata": {},
   "outputs": [],
   "source": [
    "In Python there are millions of libraries many of which help do Data Visualization. Previously we have used MatPlotLib which creates basic visualizations. For this MicroProject we will nerd out with a Data Visualization library called Plotly which creates really sophisticated visualizations. You can learn more about Plotly here: [https://plotly.com/python/](https://plotly.com/python/)"
   ]
  },
  {
   "attachments": {},
   "cell_type": "markdown",
   "execution_count": 0,
   "metadata": {},
   "outputs": [],
   "source": [
    "To install plotly on your machine open your terminal and install plotly.express using pip. The command is \n",
    "\n",
    "`pip install plotly` or `pip3 install plotly`"
   ]
  },
  {
   "attachments": {},
   "cell_type": "markdown",
   "execution_count": 0,
   "metadata": {},
   "outputs": [],
   "source": [
    "To import plotly use the import command below"
   ]
  },
  {
   "cell_type": "code",
   "execution_count": 0,
   "metadata": {},
   "outputs": [],
   "source": [
    "import plotly.express as px"
   ]
  },
  {
   "attachments": {},
   "cell_type": "markdown",
   "execution_count": 0,
   "metadata": {},
   "outputs": [],
   "source": [
    "### Analysis of Democrat votes in the United States"
   ]
  },
  {
   "attachments": {},
   "cell_type": "markdown",
   "execution_count": 0,
   "metadata": {},
   "outputs": [],
   "source": [
    "Using the original senate dataset make a datset with all democrat candidates and save this as `df_democrat`"
   ]
  },
  {
   "cell_type": "code",
   "execution_count": 0,
   "metadata": {},
   "outputs": [],
   "source": [
    "### ASSIGNMENT CODE for Democrat votes ==\n",
    "df_democrat = ...\n",
    "\n"
   ]
  },
  {
   "attachments": {},
   "cell_type": "markdown",
   "execution_count": 0,
   "metadata": {},
   "outputs": [],
   "source": [
    "Now that we have a dataset with all the democrats from all states from 1986-2020, lets plot a line graph of the total votes the democrat candidates recieved on the y axis and recieved years on the x axis. The line graph should contain a different line per state and each line should have a different color. To learn how to do this visit [https://plotly.com/python/line-charts/](https://plotly.com/python/line-charts/). Save this line_chart as `democrat_line_chart`"
   ]
  },
  {
   "cell_type": "code",
   "execution_count": 0,
   "metadata": {},
   "outputs": [],
   "source": [
    "### ASSIGNMENT CODE for Democrat votes ==\n",
    "democrat_line_chart = ...\n",
    "\n"
   ]
  },
  {
   "attachments": {},
   "cell_type": "markdown",
   "execution_count": 0,
   "metadata": {},
   "outputs": [],
   "source": [
    "### Analysis of Total votes in the Illinois"
   ]
  },
  {
   "attachments": {},
   "cell_type": "markdown",
   "execution_count": 0,
   "metadata": {},
   "outputs": [],
   "source": [
    "There have been reports on early voter turnout being down for the 2022 midterm elections. Lets create a graph that displays `totalvotes` over the years in Illinois. `total_votes_illinois`"
   ]
  },
  {
   "cell_type": "code",
   "execution_count": 0,
   "metadata": {},
   "outputs": [],
   "source": [
    "### ASSIGNMENT CODE for Democrat votes ==\n",
    "total_votes_illinois = ...\n",
    "\n"
   ]
  },
  {
   "cell_type": "code",
   "execution_count": 0,
   "metadata": {},
   "outputs": [],
   "source": [
    "### TEST CASE for Democrat Votes ==\n",
    "## == CHECKPOINT TESTS ==\n",
    "# - This read-only cell contains a \"checkpoint\" for this section of the MicroProejct and verifies you are on the right track.\n",
    "# - If this cell results in a celebration message, you PASSED all test cases!\n",
    "# - If this cell results in any errors, check you previous cells, make changes, and RE-RUN your code and then this cell.\n",
    "\n",
    "tada = \"\\N{PARTY POPPER}\"\n",
    "\n",
    "assert(\"df_democrat\" in vars())\n",
    "assert(df_democrat.shape[0] == 810)\n",
    "assert(df_democrat[\"candidatevotes\"].sort_values(ascending=False)[2676] == 7864624)\n",
    "\n",
    "print(f\"{tada} All Tests Passed! {tada}\")"
   ]
  },
  {
   "attachments": {},
   "cell_type": "markdown",
   "execution_count": 0,
   "metadata": {},
   "outputs": [],
   "source": [
    "### Graph Analysis"
   ]
  },
  {
   "attachments": {},
   "cell_type": "markdown",
   "execution_count": 0,
   "metadata": {},
   "outputs": [],
   "source": [
    "Using the last graph you created you can see that the midterm elections have lower turnout rates in Illinois. Illinois reported the second-lowest primary election turnout in 40 years in August: [Source](https://www.wgem.com/2022/08/02/illinois-reports-second-lowest-primary-election-turnout-40-years/). If you are eligible definitely go vote. If you don't know where the closest voting location is [CLICK HERE](https://ova.elections.il.gov/pollingplacelookup.aspx) to find polling locations near you! \n",
    "\n"
   ]
  },
  {
   "attachments": {},
   "cell_type": "markdown",
   "execution_count": 0,
   "metadata": {},
   "outputs": [],
   "source": [
    "## Submission\n",
    "\n",
    "You're almost done!  All you need to do is to commit your lab to GitHub and run the GitHub Actions Grader:\n",
    "\n",
    "1.  ⚠️ **Make certain to save your work.** ⚠️ To do this, go to **File => Save All**\n",
    "\n",
    "2.  After you have saved, exit this notebook and follow the instructions to commit and grade this MicroProject!"
   ]
  },
  {
   "attachments": {},
   "cell_type": "markdown",
   "execution_count": 0,
   "metadata": {},
   "outputs": [],
   "source": []
  }
 ],
 "metadata": {
  "kernelspec": {
   "display_name": "Python 3.8.5 ('base')",
   "language": "python",
   "name": "python3"
  },
  "language_info": {
   "codemirror_mode": {
    "name": "ipython",
    "version": 3
   },
   "file_extension": ".py",
   "mimetype": "text/x-python",
   "name": "python",
   "nbconvert_exporter": "python",
   "pygments_lexer": "ipython3",
   "version": "3.10.5"
  },
  "vscode": {
   "interpreter": {
    "hash": "6ffa1b5e46dc11ea08963e1cd366633ff2f920f8ee7669d02119012e847c3805"
   }
  }
 },
 "nbformat": 4,
 "nbformat_minor": 2
}
