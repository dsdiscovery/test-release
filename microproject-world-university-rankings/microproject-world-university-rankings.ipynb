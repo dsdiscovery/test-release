{
 "cells": [
  {
   "cell_type": "code",
   "execution_count": 4,
   "metadata": {},
   "outputs": [
    {
     "name": "stdout",
     "output_type": "stream",
     "text": [
      "🎉 All Tests Passed! 🎉\n"
     ]
    }
   ],
   "source": [
    "### TEST CASE -- Data Import\n",
    "## == CHECKPOINT TESTS ==\n",
    "# - This read-only cell contains a \"checkpoint\" for this section of the MicroProejct and verifies you are on the right track.\n",
    "# - If this cell results in a celebration message, you PASSED all test cases!\n",
    "# - If this cell results in any errors, check you previous cells, make changes, and RE-RUN your code and then this cell.\n",
    "\n",
    "tada = \"\\N{PARTY POPPER}\"\n",
    "\n",
    "assert(\"df\" in vars()), \"Make sure to name the dataframe df\"\n",
    "assert(df[\"University\"].iloc[0] == \"University of Oxford\")\n",
    "assert(df[\"University\"].iloc[1392] == \"Pontifical Catholic University of Minas Gerais\")\n",
    "assert(\"University\" in df)\n",
    "assert(\"Score\" not in df)\n",
    "print(f\"{tada} All Tests Passed! {tada}\") "
   ]
  },
  {
   "cell_type": "code",
   "execution_count": 6,
   "metadata": {},
   "outputs": [
    {
     "name": "stdout",
     "output_type": "stream",
     "text": [
      "🎉 All Tests Passed! 🎉\n"
     ]
    }
   ],
   "source": [
    "### TEST CASE -- Part 1.1\n",
    "## == TEST CASES FOR PUZZLE 1 ==\n",
    "# - This read-only cell contains a \"checkpoint\" for this section of the MicroProejct and verifies you are on the right track.\n",
    "# - If this cell results in a celebration message, you PASSED all test cases!\n",
    "# - If this cell results in any errors, check you previous cells, make changes, and RE-RUN your code and then this cell.\n",
    "\n",
    "tada = \"\\N{PARTY POPPER}\"\n",
    "\n",
    "assert(df.iloc[47][\"University\"] == \"University of Illinois at Urbana-Champaign\")\n",
    "assert(df.iloc[47][\"Number_students\"] == 44916)\n",
    "\n",
    "assert('df_US' in vars()), \"Make sure to name the dataframe df_united_states.\"\n",
    "assert(len(df_US) == 172), \"It looks like you did not subset df_united_states to only universities located in the United States.\"\n",
    "assert(df_US[\"University\"].iloc[0] == \"California Institute of Technology\")\n",
    "assert(df_US[\"Number_students\"].iloc[171] == 14791)\n",
    "\n",
    "print(f\"{tada} All Tests Passed! {tada}\") "
   ]
  },
  {
   "cell_type": "code",
   "execution_count": null,
   "metadata": {},
   "outputs": [
    {
     "name": "stdout",
     "output_type": "stream",
     "text": [
      "🎉 All Tests Passed! 🎉\n"
     ]
    }
   ],
   "source": [
    "### TEST CASE -- Part 1.2\n",
    "## == TEST CASES FOR PUZZLE 1 ==\n",
    "# - This read-only cell contains a \"checkpoint\" for this section of the MicroProejct and verifies you are on the right track.\n",
    "# - If this cell results in a celebration message, you PASSED all test cases!\n",
    "# - If this cell results in any errors, check you previous cells, make changes, and RE-RUN your code and then this cell.\n",
    "\n",
    "tada = \"\\N{PARTY POPPER}\"\n",
    "assert(df_US[\"University\"].loc[0] == \"California Institute of Technology\")\n",
    "print(f\"{tada} All Tests Passed! {tada}\") "
   ]
  },
  {
   "attachments": {},
   "cell_type": "markdown",
   "metadata": {},
   "source": [
    "<hr style=\"color: #DD3403;\">"
   ]
  },
  {
   "cell_type": "code",
   "execution_count": 20,
   "metadata": {},
   "outputs": [
    {
     "name": "stdout",
     "output_type": "stream",
     "text": [
      "🎉 All Tests Passed! 🎉\n"
     ]
    }
   ],
   "source": [
    "### TEST CASE -- Part 2.1\n",
    "## == TEST CASES FOR PUZZLE 2 ==\n",
    "# - This read-only cell contains a \"checkpoint\" for this section of the MicroProejct and verifies you are on the right track.\n",
    "# - If this cell results in a celebration message, you PASSED all test cases!\n",
    "# - If this cell results in any errors, check you previous cells, make changes, and RE-RUN your code and then this cell.\n",
    "\n",
    "tada = \"\\N{PARTY POPPER}\"\n",
    "\n",
    "assert('df_US_large' in vars()), \"Make sure to name the dataframe df_less_than_10000.\"\n",
    "assert(len(df_US_large) == 45), \"It looks like you did not subset df_less_than_10000 to only universities with less than 10000 students.\"\n",
    "assert(df_US_large[\"University\"].iloc[7] == \"University of Illinois at Urbana-Champaign\")\n",
    "print(f\"{tada} All Tests Passed! {tada}\")"
   ]
  },
  {
   "cell_type": "code",
   "execution_count": 23,
   "metadata": {},
   "outputs": [
    {
     "name": "stdout",
     "output_type": "stream",
     "text": [
      "🎉 All Tests Passed! 🎉\n"
     ]
    }
   ],
   "source": [
    "### TEST CASE -- Part 2.2\n",
    "## == TEST CASES FOR PUZZLE 2 ==\n",
    "# - This read-only cell contains a \"checkpoint\" for this section of the MicroProejct and verifies you are on the right track.\n",
    "# - If this cell results in a celebration message, you PASSED all test cases!\n",
    "# - If this cell results in any errors, check you previous cells, make changes, and RE-RUN your code and then this cell.\n",
    "\n",
    "tada = \"\\N{PARTY POPPER}\"\n",
    "\n",
    "assert(\"US_large_rank\" in df_US_large)\n",
    "assert(df_US_large.loc[0][0] == df_US_large.iloc[0][0])\n",
    "assert(df_US_large.loc[0][\"US_large_rank\"] == 1)\n",
    "print(f\"{tada} All Tests Passed! {tada}\")"
   ]
  },
  {
   "attachments": {},
   "cell_type": "markdown",
   "metadata": {},
   "source": [
    "<hr style=\"color: #DD3403;\">"
   ]
  },
  {
   "cell_type": "code",
   "execution_count": 25,
   "metadata": {},
   "outputs": [
    {
     "name": "stdout",
     "output_type": "stream",
     "text": [
      "🎉 All Tests Passed! 🎉\n"
     ]
    }
   ],
   "source": [
    "### TEST CASE -- Part 3\n",
    "## == TEST CASES FOR PUZZLE 3 ==\n",
    "# - This read-only cell contains a \"checkpoint\" for this section of the MicroProejct and verifies you are on the right track.\n",
    "# - If this cell results in a celebration message, you PASSED all test cases!\n",
    "# - If this cell results in any errors, check you previous cells, make changes, and RE-RUN your code and then this cell.\n",
    "\n",
    "tada = \"\\N{PARTY POPPER}\"\n",
    "\n",
    "assert('df_random_15' in vars()), \"Make sure to name the dataframe df_random_15.\"\n",
    "assert(len(df_random_15) == 15), \"It looks like you did not sample exactly 15 rows.\"\n",
    "assert(len(df_random_15[df_random_15.Country != \"United States\"]) > 0), \"Make sure to sample from the full dataset stored in `df`\"\n",
    "print(f\"{tada} All Tests Passed! {tada}\") "
   ]
  },
  {
   "attachments": {},
   "cell_type": "markdown",
   "metadata": {},
   "source": [
    "<hr style=\"color: #DD3403;\">"
   ]
  },
  {
   "attachments": {},
   "cell_type": "markdown",
   "metadata": {},
   "source": [
    "## Submission\n",
    "\n",
    "You're almost done!  All you need to do is to commit your lab to GitHub and run the GitHub Actions Grader:\n",
    "\n",
    "1.  ⚠️ **Make certain to save your work.** ⚠️ To do this, go to **File => Save All**\n",
    "\n",
    "2.  After you have saved, exit this notebook and follow the instructions to commit and grade this MicroProject!"
   ]
  }
 ],
 "metadata": {
  "kernelspec": {
   "display_name": "Python 3",
   "language": "python",
   "name": "python3"
  },
  "language_info": {
   "codemirror_mode": {
    "name": "ipython",
    "version": 3
   },
   "file_extension": ".py",
   "mimetype": "text/x-python",
   "name": "python",
   "nbconvert_exporter": "python",
   "pygments_lexer": "ipython3",
   "version": "3.10.5"
  },
  "orig_nbformat": 4,
  "vscode": {
   "interpreter": {
    "hash": "369f2c481f4da34e4445cda3fffd2e751bd1c4d706f27375911949ba6bb62e1c"
   }
  }
 },
 "nbformat": 4,
 "nbformat_minor": 2
}
