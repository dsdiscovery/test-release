{
 "cells": [
  {
   "attachments": {},
   "cell_type": "markdown",
   "metadata": {},
   "source": [
    "## 🔬 Microproject Checkpoint Tests 🔬"
   ]
  },
  {
   "cell_type": "code",
   "execution_count": 18,
   "metadata": {},
   "outputs": [
    {
     "name": "stdout",
     "output_type": "stream",
     "text": [
      "🎉 Data API: All Tests Passed! 🎉\n",
      "🎉 Puzzle 1: All Tests Passed! 🎉\n",
      "🎉 Puzzle 2: All Tests Passed! 🎉\n",
      "🎉🎉 All Tests Passed! 🎉🎉\n"
     ]
    }
   ],
   "source": [
    "### TEST CASE -- Data API + Puzzle 1 & 2\n",
    "## == CHECKPOINT TEST CASES ==\n",
    "# - This read-only cell contains test cases for the microproject.\n",
    "# - If this cell runs without any error in the output, you PASSED all test cases!\n",
    "# - If this cell results in any errors, check you previous cells, make changes, and RE-RUN your code and then this cell.\n",
    "tada = \"\\N{PARTY POPPER}\"\n",
    "\n",
    "assert(\"/points/\" in pointsJSON[\"id\"])\n",
    "assert(f\"/{int(latitude)}\" in pointsJSON[\"id\"])\n",
    "assert(f\",{int(longitude)}\" in pointsJSON[\"id\"])\n",
    "assert(\"/gridpoints/\" in hourlyForecastURL)\n",
    "assert(\"/forecast/hourly\" in hourlyForecastURL)\n",
    "print(f\"{tada} Data API: All Tests Passed! {tada}\")\n",
    "\n",
    "\n",
    "assert(\"df\" in vars())\n",
    "assert(\"startTime\" in df)\n",
    "assert(\"temperature\" in df)\n",
    "print(f\"{tada} Puzzle 1: All Tests Passed! {tada}\")\n",
    "\n",
    "\n",
    "assert( len(df_warmest) == 1 )\n",
    "assert( df_warmest[\"temperature\"].values[0] == max(df[\"temperature\"]) )\n",
    "\n",
    "assert( len(df_coldest) == 1 )\n",
    "assert( df_coldest[\"temperature\"].values[0] == min(df[\"temperature\"]) )\n",
    "\n",
    "assert( len(skySummary) == len(df[\"shortForecast\"].unique()) )\n",
    "pd.testing.assert_frame_equal(skySummary.sort_values([\"count\", \"shortForecast\"]).set_index(\"shortForecast\"), pd.DataFrame(df[\"shortForecast\"].value_counts()).reset_index().rename({\"index\": \"shortForecast\", \"shortForecast\": \"count\"}, axis=1).sort_values([\"count\", \"shortForecast\"]).set_index(\"shortForecast\")), \"Your skySummary is incorrect.\"\n",
    "print(f\"{tada} Puzzle 2: All Tests Passed! {tada}\")\n",
    "\n",
    "print(f\"{tada}{tada} All Tests Passed! {tada}{tada}\")"
   ]
  },
  {
   "attachments": {},
   "cell_type": "markdown",
   "metadata": {},
   "source": [
    "<hr style=\"color: #DD3403;\">"
   ]
  },
  {
   "attachments": {},
   "cell_type": "markdown",
   "metadata": {},
   "source": [
    "## Submission\n",
    "\n",
    "You're almost done!  All you need to do is to commit your lab to GitHub and run the GitHub Actions Grader:\n",
    "\n",
    "1.  ⚠️ **Make certain to save your work.** ⚠️ To do this, go to **File => Save All**\n",
    "\n",
    "2.  After you have saved, exit this notebook and follow the instructions to commit and grade this MicroProject!\n"
   ]
  }
 ],
 "metadata": {
  "kernelspec": {
   "display_name": "Python 3.10.6 64-bit",
   "language": "python",
   "name": "python3"
  },
  "language_info": {
   "codemirror_mode": {
    "name": "ipython",
    "version": 3
   },
   "file_extension": ".py",
   "mimetype": "text/x-python",
   "name": "python",
   "nbconvert_exporter": "python",
   "pygments_lexer": "ipython3",
   "version": "3.10.5"
  },
  "orig_nbformat": 4,
  "vscode": {
   "interpreter": {
    "hash": "369f2c481f4da34e4445cda3fffd2e751bd1c4d706f27375911949ba6bb62e1c"
   }
  }
 },
 "nbformat": 4,
 "nbformat_minor": 2
}
