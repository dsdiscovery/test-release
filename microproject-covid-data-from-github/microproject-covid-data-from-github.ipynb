{
 "cells": [
  {
   "attachments": {},
   "cell_type": "markdown",
   "metadata": {},
   "source": [
    "<h1 style=\"text-align: center\">\n",
    "<div style=\"color: #DD3403; font-size: 60%\">Data Science DISCOVERY MicroProject #5</div>\n",
    "<span style=\"\">MicroProject: Exploring COVID-19 Data from GitHub</span>\n",
    "<div style=\"font-size: 60%;\"><a href=\"https://discovery.cs.illinois.edu/microproject/05-github-covid/\">https://discovery.cs.illinois.edu/microproject/05-github-covid/</a></div>\n",
    "</h1>\n",
    "\n",
    "<hr style=\"color: #DD3403;\">"
   ]
  },
  {
   "cell_type": "code",
   "execution_count": 4,
   "metadata": {},
   "outputs": [
    {
     "name": "stdout",
     "output_type": "stream",
     "text": [
      "🎉 All Tests Passed! 🎉\n"
     ]
    }
   ],
   "source": [
    "### TEST CASE -- Part 1\n",
    "## == CHECKPOINT TESTS ==\n",
    "# - This read-only cell contains a \"checkpoint\" for this section of the MicroProejct and verifies you are on the right track.\n",
    "# - If this cell results in a celebration message, you PASSED all test cases!\n",
    "# - If this cell results in any errors, check you previous cells, make changes, and RE-RUN your code and then this cell.\n",
    "tada = \"\\N{PARTY POPPER}\"\n",
    "\n",
    "assert(\"df\" in vars())\n",
    "assert(\"Country_Region\" in df)\n",
    "assert(\"People_Hospitalized\" not in df), \"Make sure you have the global daily reports, not just the US daily reports.\"\n",
    "assert(\"India\" in df[\"Country_Region\"].unique())\n",
    "assert(\"2022-01-04\" in df[\"Last_Update\"].unique()[0]), \"Make sure you have the Jan. 3, 2022 CSV file.\"\n",
    "print(f\"{tada} All Tests Passed! {tada}\")"
   ]
  },
  {
   "attachments": {},
   "cell_type": "markdown",
   "metadata": {},
   "source": [
    "<hr style=\"color: #DD3403;\">"
   ]
  },
  {
   "cell_type": "code",
   "execution_count": 9,
   "metadata": {},
   "outputs": [
    {
     "name": "stdout",
     "output_type": "stream",
     "text": [
      "🎉 All Tests Passed! 🎉\n"
     ]
    }
   ],
   "source": [
    "### TEST CASE -- Part 2\n",
    "## == CHECKPOINT TESTS ==\n",
    "# - This read-only cell contains a \"checkpoint\" for this section of the MicroProejct and verifies you are on the right track.\n",
    "# - If this cell results in a celebration message, you PASSED all test cases!\n",
    "# - If this cell results in any errors, check you previous cells, make changes, and RE-RUN your code and then this cell.\n",
    "tada = \"\\N{PARTY POPPER}\"\n",
    "\n",
    "assert(\"df_us\" in vars())\n",
    "assert(\"Province_State\" in df_us)\n",
    "\n",
    "assert(\"df_us_sorted\" in vars())\n",
    "assert(df_us_sorted.iloc[:,-7].values[2] <= df_us_sorted.iloc[:,-7].values[1])\n",
    "assert(df_us_sorted.iloc[:,-7].values[10] <= df_us_sorted.iloc[:,-7].values[9])\n",
    "assert(df_us_sorted[\"Confirmed\"].values[0]) == max(df_us[\"Confirmed\"])\n",
    "\n",
    "assert(\"df_countries\" in vars())\n",
    "assert(df_countries[\"Confirmed\"].sum() == df[\"Confirmed\"].cumsum().values[len(df) - 1])\n",
    "\n",
    "assert(\"df_most_cases\" in vars())\n",
    "assert(len(df_most_cases) == 1)\n",
    "assert(len(df_most_cases.iloc[0][\"Country_Region\"]) == 2)\n",
    "\n",
    "print(f\"{tada} All Tests Passed! {tada}\")\n"
   ]
  },
  {
   "attachments": {},
   "cell_type": "markdown",
   "metadata": {},
   "source": [
    "### 🔬 Checkpoint Tests 🔬"
   ]
  },
  {
   "cell_type": "code",
   "execution_count": 16,
   "metadata": {},
   "outputs": [
    {
     "name": "stdout",
     "output_type": "stream",
     "text": [
      "🎉 All Tests Passed! 🎉\n"
     ]
    }
   ],
   "source": [
    "### TEST CASE -- Part 3\n",
    "## == CHECKPOINT TESTS ==\n",
    "# - This read-only cell contains a \"checkpoint\" for this section of the MicroProejct and verifies you are on the right track.\n",
    "# - If this cell results in a celebration message, you PASSED all test cases!\n",
    "# - If this cell results in any errors, check you previous cells, make changes, and RE-RUN your code and then this cell.\n",
    "tada = \"\\N{PARTY POPPER}\"\n",
    "\n",
    "assert(\"confirmed_total\" in vars())\n",
    "assert(\"confirmed_80pct\" in vars())\n",
    "assert(confirmed_total > 2.9e8)\n",
    "                         \n",
    "assert(\"df_countries_sorted\" in vars())\n",
    "assert(\"Cumulative Confirmed\" in df_countries_sorted)\n",
    "assert(\"Admin2\" not in df_countries_sorted)\n",
    "assert(max(df_countries_sorted[\"Cumulative Confirmed\"]) == sum(df_countries_sorted[\"Confirmed\"]))\n",
    "assert(min(df_countries_sorted[\"Cumulative Confirmed\"]) == df_countries_sorted.iloc[0][\"Confirmed\"])\n",
    "\n",
    "assert(\"df_80pct\" in vars())\n",
    "assert(\"US\" in df_80pct[\"Country_Region\"].unique())\n",
    "assert(\"India\" in df_80pct[\"Country_Region\"].unique())\n",
    "assert(\"Tonga\" not in df_80pct[\"Country_Region\"].unique())\n",
    "\n",
    "assert(sum(df_80pct[\"Confirmed\"]) / sum(df_countries[\"Confirmed\"]) > 0.7)\n",
    "assert(sum(df_80pct[\"Confirmed\"]) / sum(df_countries[\"Confirmed\"]) < 0.9)\n",
    "\n",
    "assert(len(df_80pct[\"Confirmed\"]) / len(df_countries[\"Confirmed\"]) > 0.1)\n",
    "assert(len(df_80pct[\"Confirmed\"]) / len(df_countries[\"Confirmed\"]) < 0.2)\n",
    "\n",
    "print(f\"{tada} All Tests Passed! {tada}\")"
   ]
  },
  {
   "attachments": {},
   "cell_type": "markdown",
   "metadata": {},
   "source": [
    "<hr style=\"color: #DD3403;\">"
   ]
  },
  {
   "attachments": {},
   "cell_type": "markdown",
   "metadata": {},
   "source": [
    "## Submission\n",
    "\n",
    "You're almost done!  All you need to do is to commit your lab to GitHub and run the GitHub Actions Grader:\n",
    "\n",
    "1.  ⚠️ **Make certain to save your work.** ⚠️ To do this, go to **File => Save All**\n",
    "\n",
    "2.  After you have saved, exit this notebook and follow the instructions to commit and grade this MicroProject on GitHub!\n"
   ]
  }
 ],
 "metadata": {
  "kernelspec": {
   "display_name": "Python 3.10.5 64-bit",
   "language": "python",
   "name": "python3"
  },
  "language_info": {
   "codemirror_mode": {
    "name": "ipython",
    "version": 3
   },
   "file_extension": ".py",
   "mimetype": "text/x-python",
   "name": "python",
   "nbconvert_exporter": "python",
   "pygments_lexer": "ipython3",
   "version": "3.10.5"
  },
  "orig_nbformat": 4,
  "vscode": {
   "interpreter": {
    "hash": "369f2c481f4da34e4445cda3fffd2e751bd1c4d706f27375911949ba6bb62e1c"
   }
  }
 },
 "nbformat": 4,
 "nbformat_minor": 2
}
