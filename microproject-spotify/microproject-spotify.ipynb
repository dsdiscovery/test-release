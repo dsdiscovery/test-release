{
 "cells": [
  {
   "attachments": {},
   "cell_type": "markdown",
   "execution_count": 0,
   "metadata": {},
   "outputs": [],
   "source": [
    "<h1 style=\"text-align: center\">\n",
    "<div style=\"color: #DD3403; font-size: 60%\">Data Science DISCOVERY MicroProject</div>\n",
    "<span style=\"\">MicroProject: Spotify</span>\n",
    "<div style=\"font-size: 60%;\"><a href=\"https://discovery.cs.illinois.edu/microproject/\">https://discovery.cs.illinois.edu/microproject/</a></div>\n",
    "</h1>\n",
    "\n",
    "<hr style=\"color: #DD3403;\">"
   ]
  },
  {
   "attachments": {},
   "cell_type": "markdown",
   "execution_count": 0,
   "metadata": {},
   "outputs": [],
   "source": [
    "## Data Source: Spotify\n",
    "\n",
    "Spotify is a popular music streaming platform that provides users with access to a vast collection of songs, podcasts, and other audio content from around the world. The [Spotify API](https://developer.spotify.com/documentation/web-api/reference/#/) allows developers to retrieve information about various aspects of the platform, such as user data, track data, artist data, and playlist data. \n",
    "\n",
    "In this microproject we will be using the Spotify API to get data about artists and their songs.\n"
   ]
  },
  {
   "attachments": {},
   "cell_type": "markdown",
   "execution_count": 0,
   "metadata": {},
   "outputs": [],
   "source": [
    "## Part 1: Getting Started"
   ]
  },
  {
   "attachments": {},
   "cell_type": "markdown",
   "execution_count": 0,
   "metadata": {},
   "outputs": [],
   "source": [
    "### Puzzle 1.1: Importing Libraries\n",
    "\n",
    "To get started, we will need to import the necessary libraries. When working with APIs, we will need to use the `requests` library to make requests to the API. Import the `requests` libary below. We will also have to import the `base64` library to generate an auth token. Also import `pandas` to work with the data that we will be retrieving from the API."
   ]
  },
  {
   "cell_type": "code",
   "execution_count": 0,
   "metadata": {},
   "outputs": [],
   "source": []
  },
  {
   "attachments": {},
   "cell_type": "markdown",
   "execution_count": 0,
   "metadata": {},
   "outputs": [],
   "source": [
    "### Puzzle 1.2: Getting an Authorization Token\n",
    "\n",
    "To get started, we will need to get an authorization token from the Spotify API. This token will allow us to make requests to the API and retrieve data. To get an authorization token, request for a temporary token. To do this, go to the [Spotify Developer Homepage](https://developer.spotify.com/). \n",
    "\n",
    "Once you navigate to the homepage, click on the \"Login\" button in the top right corner of the page. This will take you to the Spotify Developer Login page.\n",
    "\n",
    "If you do not have a Spotify account, you will need to create one. Once you have created an account, log in to your account.\n",
    "\n",
    "Once you are logged in, you will be redirected to the Spotify Developer Homepage. Click on the \"Dashboard\" button in the top right corner of the page. This will take you to the Spotify Developer Dashboard page.\n",
    "\n",
    "Once you are on the Dashboard page, click on the \"Create App\" button. This will take you to the Spotify Developer Create App page. Name your app and click the \"Create\" button. This will take you to the Spotify Developer App page.\n",
    "\n",
    "For the \"Redirect URIs\" field, enter `http://example/callback`. Don't worry, we won't be using this field.\n",
    "\n",
    "Once you have created your app, click on the \"Settings\" button. This will take you to the Spotify Developer App Settings page.\n",
    "\n",
    "You will need to copy the \"Client ID\" and \"Client Secret\" from this page. You will need to paste these values into the code cell below.\n",
    "\n",
    "\n",
    "**Note:** The token will expire after one hour. If you get an error when running the code, you will need to generate a new token.\n",
    "\n"
   ]
  },
  {
   "cell_type": "code",
   "execution_count": 0,
   "metadata": {},
   "outputs": [],
   "source": [
    "client_id = \"...\"\n",
    "client_secret = \"...\"\n",
    "\n",
    "auth_url = 'https://accounts.spotify.com/api/token'\n",
    "auth_headers = {\n",
    "    'Authorization': 'Basic ' + base64.b64encode((client_id + ':' + client_secret).encode()).decode()\n",
    "}\n",
    "auth_data = {\n",
    "    'grant_type': 'client_credentials'\n",
    "}\n",
    "\n",
    "response = requests.post(auth_url, headers=auth_headers, data=auth_data)\n",
    "if response.status_code == 200:\n",
    "    token = response.json()['access_token']\n",
    "token = \"BQAOBp1ROcosyiVaNOnM7HHORdBZ8NbX0KHsrmnSJFZ2J7OyxXlSg_HJahE30BItSYhz4DHP3bjmV2KOrLpVz6jQRQYbDG9MvEk79vz1Y2gwPyEE2t1T\"\n",
    "\n",
    "headers = {\"Authorization\": f\"Bearer {token}\"}"
   ]
  },
  {
   "attachments": {},
   "cell_type": "markdown",
   "execution_count": 0,
   "metadata": {},
   "outputs": [],
   "source": [
    "### 🔬 Checkpoint Tests 🔬"
   ]
  },
  {
   "cell_type": "code",
   "execution_count": 0,
   "metadata": {},
   "outputs": [],
   "source": [
    "### TEST CASE for Part 1.1 and 1.2 ==\n",
    "## == CHECKPOINT TESTS ==\n",
    "# - This read-only cell contains a \"checkpoint\" for this section of the MicroProejct and verifies you are on the right track.\n",
    "# - If this cell results in a celebration message, you PASSED all test cases!\n",
    "# - If this cell results in any errors, check you previous cells, make changes, and RE-RUN your code and then this cell.\n",
    "\n",
    "tada = \"\\N{PARTY POPPER}\"\n",
    "\n",
    "assert(len(token) > 0), \"You need to set the token variable to your access token\"\n",
    "assert(len(token) > 100), \"Make sure you are using the entire token\"\n",
    "\n",
    "print(f\"{tada} All Tests Passed! {tada}\") "
   ]
  },
  {
   "attachments": {},
   "cell_type": "markdown",
   "execution_count": 0,
   "metadata": {},
   "outputs": [],
   "source": [
    "## Part 2: Finding Artists Ids\n",
    "\n",
    "First, we will need to find the ids of the artists that we want to get data for. Every artist on Spotify has a unique id that can be used to retrieve data about the artist. To find the ids of the artists that we want to get data for, we will use the Spotify API to search for the artists by name.\n",
    "\n",
    "The Spotify API allows us to search for artists by name. To do this, we will use the `search` endpoint. The `search` endpoint allows us to search for artists, albums, tracks, playlists, and shows. We will be using the `search` endpoint to search for artists.\n",
    "\n",
    "To read more about the `search` endpoint, click [here](https://developer.spotify.com/documentation/web-api/reference/search)."
   ]
  },
  {
   "attachments": {},
   "cell_type": "markdown",
   "execution_count": 0,
   "metadata": {},
   "outputs": [],
   "source": [
    "### Puzzle 2.1: Searching for Taylor Swift\n",
    "\n",
    "To start, we will use the `search` endpoint to search for Taylor Swift. The `search` endpoint takes in two parameters: `q` and `type`. The `q` parameter is the search query, in this case, we will be searching for Taylor Swift, so we will set the `q` parameter to `Taylor Swift`. The `type` parameter is the type of item to search for. In this case, we will be searching for artists, so we will set the `type` parameter to `artist`.\n",
    "\n",
    "The base URL for the Spotify API is `https://api.spotify.com/v1`. This is the URL that we will use to make requests to the API. While using the Spotify API, we will need to append the endpoint that we want to use to the base URL. For example, if we want to use the `search` endpoint, we will need to append `/search` to the base URL. The full URL for the `search` endpoint is `https://api.spotify.com/v1/search`. We can find the documentation for the full URL for the `search` endpoint [here](https://developer.spotify.com/documentation/web-api/reference/search/search/).\n",
    "\n",
    "\n",
    "Notice how the `search` endpoint uses the `GET` method on the Spotify documentation. This means that we will need to pass the parameters as query parameters. We can do this by passing a dictionary to the `params` parameter of the `requests.get` function. The dictionary should have the `q` and `type` parameters as keys and the search query and type of item to search for as values.\n",
    "\n",
    "In the `GET` method, we will also need to pass the authorization token as a header. We can do this by passing a dictionary to the `headers` parameter of the `requests.get` function. The dictionary should have the `Authorization` key and the authorization token as the value. The `headers` parameter was made for you above."
   ]
  },
  {
   "cell_type": "code",
   "execution_count": 0,
   "metadata": {},
   "outputs": [],
   "source": [
    "search_endpoint = ...\n",
    "search_params = ...\n",
    "search_response = requests.get(search_endpoint, params=search_params, headers=headers)\n",
    "search_response.json()\n",
    "\n",
    "\n"
   ]
  },
  {
   "attachments": {},
   "cell_type": "markdown",
   "execution_count": 0,
   "metadata": {},
   "outputs": [],
   "source": [
    "### Puzzle 2.2: Parsing the JSON Data to Get the Artist Id\n",
    "\n",
    "You should have gotten a response from the API. The response contains a JSON object. The JSON object contains information about the artist that we searched for. In this case we searched for Taylor Swift, so the JSON object contains information about artists with the name Taylor Swift. The `id` key of the JSON object contains the id of the artist. The `id` key is a unique identifier for the artist. We will need the id of the artist to get data about the artist.\n",
    "\n",
    "The JSON data that is returned from the API is a dictionary. The `artists` key of the dictionary contains a dictionary with the `items` key. The `items` key contains a list of dictionaries. Each dictionary in the list contains information about an artist. The `id` key of each dictionary contains the id of the artist.\n",
    "\n",
    "**Note:** The Taylor Swift that we are looking for is the first Taylor Swift in the list. The first Taylor Swift in the list is the one with the index 0.\n",
    "\n",
    "Find the id of Taylor Swift and store it in the `taylor_swift_id` variable in the code cell below."
   ]
  },
  {
   "cell_type": "code",
   "execution_count": 0,
   "metadata": {},
   "outputs": [],
   "source": [
    "taylor_swift_id = ...\n"
   ]
  },
  {
   "attachments": {},
   "cell_type": "markdown",
   "execution_count": 0,
   "metadata": {},
   "outputs": [],
   "source": [
    "### 🔬 Checkpoint Tests 🔬"
   ]
  },
  {
   "cell_type": "code",
   "execution_count": 0,
   "metadata": {},
   "outputs": [],
   "source": [
    "### TEST CASE for Part 2.1 and 2.2 ==\n",
    "## == CHECKPOINT TESTS ==\n",
    "# - This read-only cell contains a \"checkpoint\" for this section of the MicroProejct and verifies you are on the right track.\n",
    "# - If this cell results in a celebration message, you PASSED all test cases!\n",
    "# - If this cell results in any errors, check you previous cells, make changes, and RE-RUN your code and then this cell.\n",
    "\n",
    "tada = \"\\N{PARTY POPPER}\"\n",
    "\n",
    "assert(len(search_response.json()) > 0), \"Did you set the search_response variable to the correct value?\"\n",
    "assert(search_response.status_code == 200)\n",
    "assert(len(taylor_swift_id) > 0), \"Did you set the taylor_swift_id variable to the correct value?\"\n",
    "assert(taylor_swift_id == '06HL4z0CvFAxyc27GXpf02'), \"Did you set the taylor_swift_id variable to the correct value?\"\n",
    "\n",
    "print(f\"{tada} All Tests Passed! {tada}\") "
   ]
  },
  {
   "attachments": {},
   "cell_type": "markdown",
   "execution_count": 0,
   "metadata": {},
   "outputs": [],
   "source": [
    "## Part 3: Getting Data About Taylor Swift"
   ]
  },
  {
   "attachments": {},
   "cell_type": "markdown",
   "execution_count": 0,
   "metadata": {},
   "outputs": [],
   "source": [
    "Using the id of an artist, we can get data about the artist. To get data about an artist, we will use the `artists` endpoint. The `artists` endpoint takes in one parameter: `ids`. The `ids` parameter is a comma-separated list of the ids of the artists that we want to get data for. \n",
    "\n",
    "Learn more about the `artists` endpoint under the \"Artists\" section of the [Spotify API Reference](https://developer.spotify.com/documentation/web-api/reference/#category-artists)."
   ]
  },
  {
   "attachments": {},
   "cell_type": "markdown",
   "execution_count": 0,
   "metadata": {},
   "outputs": [],
   "source": [
    "### Puzzle 3.1: Taylor Swift's Albums"
   ]
  },
  {
   "attachments": {},
   "cell_type": "markdown",
   "execution_count": 0,
   "metadata": {},
   "outputs": [],
   "source": [
    "Using the `GET ARTIST'S ALBUMS` endpoint, get the albums for Taylor Swift. Store the albums name and albums id in the `taylor_swift_albums` variable in the code cell below. Make sure that the albums are stored in a dataframe with the columns `Album Name` and `Album ID`.\n",
    "\n",
    "Because Taylor Swift has so many albums you may have to use some of the optional parameters to get all of her albums. To see all the optional parameters, click on the `GET ARTIST'S ALBUMS` endpoint under the `Artists` section of the [Spotify API Reference](https://developer.spotify.com/documentation/web-api/reference/#category-artists)."
   ]
  },
  {
   "cell_type": "code",
   "execution_count": 0,
   "metadata": {},
   "outputs": [],
   "source": [
    "taylor_swift_albums = ...\n",
    "\n",
    "\n"
   ]
  },
  {
   "attachments": {},
   "cell_type": "markdown",
   "execution_count": 0,
   "metadata": {},
   "outputs": [],
   "source": [
    "### Puzzle 3.2: Drop duplicates from Taylor Swift's Albums\n",
    "\n",
    "Notice that the albums that are returned from the `GET ARTIST'S ALBUMS` endpoint contain duplicate names. This is because the `GET ARTIST'S ALBUMS` endpoint returns both the albums that Taylor Swift has released and the albums that Taylor Swift has been featured on. To more easily work with the albums, we will need to drop albums that have the same name. Save the albums that have unique names in the `taylor_swift_unique_albums` variable in the code cell below."
   ]
  },
  {
   "cell_type": "code",
   "execution_count": 0,
   "metadata": {},
   "outputs": [],
   "source": [
    "### SOULTION\n",
    "taylor_swift_unique_albums = taylor_swift_albums.drop_duplicates(subset=\"Album Name\").reset_index(drop=True)\n",
    "taylor_swift_unique_albums\n"
   ]
  },
  {
   "attachments": {},
   "cell_type": "markdown",
   "execution_count": 0,
   "metadata": {},
   "outputs": [],
   "source": [
    "### Puzzle 3.3: Getting Album Popularity\n",
    "\n",
    "Now that we have the albums for Taylor Swift, we can get the popularity of each album. To get the popularity of an album, we will use the `albums` endpoint. The `albums` endpoint takes in one parameter: `ids`. The `ids` parameter is a comma-separated list of the ids of the albums that we want to get data for. \n",
    "\n",
    "Add the popularity of each album to the `taylor_swift_unique_albums` dataframe with the column name `Album Popularity`."
   ]
  },
  {
   "cell_type": "code",
   "execution_count": 0,
   "metadata": {},
   "outputs": [],
   "source": [
    "### SOULTION\n",
    "album_popularity = []\n",
    "for album_id in taylor_swift_unique_albums[\"Album ID\"]:\n",
    "    response = requests.get(\"https://api.spotify.com/v1/albums/\"+album_id, headers=headers).json()[\"popularity\"]\n",
    "    album_popularity.append(response)\n",
    "taylor_swift_unique_albums[\"Album Popularity\"] = album_popularity\n",
    "taylor_swift_unique_albums"
   ]
  },
  {
   "attachments": {},
   "cell_type": "markdown",
   "execution_count": 0,
   "metadata": {},
   "outputs": [],
   "source": [
    "### 🔬 Checkpoint Tests 🔬"
   ]
  },
  {
   "cell_type": "code",
   "execution_count": 0,
   "metadata": {},
   "outputs": [],
   "source": [
    "### TEST CASE for Part 3.1, 3.2, and 3.3 ==\n",
    "## == CHECKPOINT TESTS ==\n",
    "# - This read-only cell contains a \"checkpoint\" for this section of the MicroProejct and verifies you are on the right track.\n",
    "# - If this cell results in a celebration message, you PASSED all test cases!\n",
    "# - If this cell results in any errors, check you previous cells, make changes, and RE-RUN your code and then this cell.\n",
    "\n",
    "tada = \"\\N{PARTY POPPER}\"\n",
    "\n",
    "assert(len(taylor_swift_unique_albums) == 33), \"You are missing some albums\"\n",
    "assert(type(taylor_swift_unique_albums) == pd.core.frame.DataFrame), \"Make sure you are creating a dataframe\"\n",
    "assert(len(taylor_swift_unique_albums) == len(set(taylor_swift_unique_albums[\"Album Name\"]))), \"Make sure you are not including duplicate albums\"\n",
    "assert(taylor_swift_unique_albums[taylor_swift_unique_albums[\"Album Name\"] == \"Midnights\"].shape[0] == 1), \"You are missing some albums\"\n",
    "assert(taylor_swift_unique_albums[taylor_swift_unique_albums[\"Album Name\"] == \"Midnights\"][\"Album ID\"].values[0] == \"151w1FgRZfnKZA9FEcg9Z3\"), \"You are missing some albums\"\n",
    "assert(\"Album Popularity\" in taylor_swift_unique_albums.columns), \"Make sure you are creating a column called 'Album Popularity'\"\n",
    "assert(taylor_swift_unique_albums[taylor_swift_unique_albums[\"Album Name\"] == \"Midnights\"][\"Album Popularity\"].values[0] == 95), \"You are missing some albums\"\n",
    "\n",
    "\n",
    "print(f\"{tada} All Tests Passed! {tada}\")"
   ]
  },
  {
   "attachments": {},
   "cell_type": "markdown",
   "execution_count": 0,
   "metadata": {},
   "outputs": [],
   "source": [
    "## Puzzle 3.4: Album Popularity\n",
    "\n",
    "Using matplotlib, create a bar plot that shows the popularity of Taylor Swift's albums. Make sure to label the x-axis, y-axis, and title of the plot. Use the `taylor_swift_unique_albums` dataframe to create the bar plot. To make the plot easier to read, you can sort the albums by popularity. Additionally, you can rotate the x-axis labels so that they are easier to read."
   ]
  },
  {
   "cell_type": "code",
   "execution_count": 0,
   "metadata": {},
   "outputs": [],
   "source": []
  },
  {
   "attachments": {},
   "cell_type": "markdown",
   "execution_count": 0,
   "metadata": {},
   "outputs": [],
   "source": [
    "## Submission\n",
    "\n",
    "You're almost done!  All you need to do is to commit your lab to GitHub and run the GitHub Actions Grader:\n",
    "\n",
    "1.  ⚠️ **Make certain to save your work.** ⚠️ To do this, go to **File => Save All**\n",
    "\n",
    "2.  After you have saved, exit this notebook and follow the instructions to commit and grade this MicroProject!"
   ]
  }
 ],
 "metadata": {
  "kernelspec": {
   "display_name": "base",
   "language": "python",
   "name": "python3"
  },
  "language_info": {
   "codemirror_mode": {
    "name": "ipython",
    "version": 3
   },
   "file_extension": ".py",
   "mimetype": "text/x-python",
   "name": "python",
   "nbconvert_exporter": "python",
   "pygments_lexer": "ipython3",
   "version": "3.10.9"
  }
 },
 "nbformat": 4,
 "nbformat_minor": 2
}
